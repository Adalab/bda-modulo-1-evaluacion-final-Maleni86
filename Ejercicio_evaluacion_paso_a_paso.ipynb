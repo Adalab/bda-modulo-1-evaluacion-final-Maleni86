{
 "cells": [
  {
   "cell_type": "markdown",
   "metadata": {},
   "source": [
    "# Ejercicio Evaluación_paso a paso"
   ]
  },
  {
   "cell_type": "markdown",
   "metadata": {},
   "source": []
  },
  {
   "cell_type": "code",
   "execution_count": 1,
   "metadata": {},
   "outputs": [],
   "source": [
    "class TiendaOnline:\n",
    "    def __init__(self):\n",
    "        self.inventario = [] #lista vacía del inventario\n",
    "        self.ventas_totales = 0.0 #Inicializado con valor 0.0 \n",
    "\n",
    "    \n",
    "    def añadir (self, nombre, precio, cantidad):\n",
    "        self.inventario.append ({'nombre': nombre, 'precio': precio, 'cantidad': cantidad}) #Para agregar un diccionario dentro de la lista self.inventario\n",
    "\n",
    "    def agregar_producto(self, nombre, precio, cantidad): \n",
    "        \n",
    "        for producto in self.inventario:  #usamos for para iterar a través de inventario y si el producto existe actualizar la cantidad\n",
    "            print (f\"Nombre:{producto [\"nombre\"]}, Precio: €{producto['precio']}, Cantidad: {producto['cantidad']}\")\n",
    "            if producto [\"nombre\"] == nombre:\n",
    "                producto [\"cantidad\"] += cantidad #Si existe, actualizamos la cantidad\n",
    "                print (\"el producto ya existe, se ha agregado la cantidad en inventario.\")\n",
    "                return     \n",
    "            #Si no existe, tenemos que agregarlo como nuevo producto\n",
    "        nuevo_producto = {\"nombre\": nombre , \"precio\": precio, \"cantidad\": cantidad }\n",
    "        self.inventario.append ({'nombre': nombre, 'precio': precio, 'cantidad': cantidad})\n",
    "        print (f\"el producto {nombre} no existe, lo hemos agregado\")\n",
    "\n",
    "    def ver_inventario (self) : #utilizamos este método para ver el inventario con sus detalles\n",
    "            print(\"Inventario de la tienda:\")\n",
    "            for producto in self.inventario :\n",
    "                print(f\"Nombre: {producto['nombre']}, Precio: €{producto['precio']}, Cantidad: {producto['cantidad']}\")\n",
    "                \n",
    "\n",
    "    def buscar_producto(self, nombre):\n",
    "    \n",
    "        for producto in self.inventario:\n",
    "            if producto [\"nombre\"].lower() == nombre.lower():    #Usamos lower para que sea indiferente si ingresamos mayúsculas o minúsculas\n",
    "                print(f\"Nombre: {producto['nombre']}, Precio: €{producto['precio']}, Cantidad: {producto['cantidad']}\")\n",
    "                return\n",
    "        print (\"el producto no existe en el inventario\")\n",
    "\n",
    "    def actualizar_stock(self, nombre, precio, cantidad):\n",
    "        for producto in self.inventario:    #Aqui tengo que iterar por el inventario para comprobar si el producto existe en el inventario\n",
    "            if producto[\"nombre\"] == nombre: \n",
    "                producto[\"cantidad\"] += cantidad  #Aqui estoy actualizando la cantidad, porque el producto si existe en el inventario\n",
    "                print(f\"El stock de {nombre} ha sido actualizado. Nueva cantidad: {producto[\"cantidad\"]}\")\n",
    "                return\n",
    "        print(f\"No se encuentra el producto {nombre} en el inventario.\")\n",
    "\n",
    "    def eliminar_producto(self, nombre):\n",
    "        for producto in self.inventario:\n",
    "            if producto[\"nombre\"] == nombre: #buscamos el producto por el nombre en el inventario\n",
    "                self.inventario.remove(producto)  # si lo encontramos, eliminamos el producto\n",
    "                print (f\"El producto {nombre} ha sido eliminado del inventario.\")\n",
    "                return\n",
    "        print(f\"No se encuentra el producto {nombre} en el inventario.\")\n",
    "\n",
    "    def valor_inventario (self):\n",
    "        total_inventario = 0.0   #Aqui igualamos a cero porque partimos de esa base\n",
    "        for producto in self.inventario:\n",
    "            total_inventario += producto[\"precio\"] * producto[\"cantidad\"] #Aqui tenemos que multiplicar el precio por la cantidad y sumar el resultado de C/U\n",
    "        print (f\"El valor total del inventario es: €{total_inventario}\")\n",
    "        return\n",
    "\n",
    "    \n",
    "\n",
    "\n",
    "\n",
    "    "
   ]
  },
  {
   "cell_type": "code",
   "execution_count": 2,
   "metadata": {},
   "outputs": [],
   "source": [
    "TiendaMaleni = TiendaOnline ()"
   ]
  },
  {
   "cell_type": "code",
   "execution_count": 3,
   "metadata": {},
   "outputs": [
    {
     "data": {
      "text/plain": [
       "{'inventario': [], 'ventas_totales': 0.0}"
      ]
     },
     "execution_count": 3,
     "metadata": {},
     "output_type": "execute_result"
    }
   ],
   "source": [
    "TiendaMaleni.__dict__"
   ]
  },
  {
   "cell_type": "code",
   "execution_count": 4,
   "metadata": {},
   "outputs": [],
   "source": [
    "TiendaMaleni.añadir(\"camisa\", 20, 40)\n"
   ]
  },
  {
   "cell_type": "code",
   "execution_count": 5,
   "metadata": {},
   "outputs": [
    {
     "data": {
      "text/plain": [
       "{'inventario': [{'nombre': 'camisa', 'precio': 20, 'cantidad': 40}],\n",
       " 'ventas_totales': 0.0}"
      ]
     },
     "execution_count": 5,
     "metadata": {},
     "output_type": "execute_result"
    }
   ],
   "source": [
    "TiendaMaleni.__dict__"
   ]
  },
  {
   "cell_type": "markdown",
   "metadata": {},
   "source": [
    "#1.He agregado un nuevo producto: nombre: pantalón, precio: €30, cantidad =30"
   ]
  },
  {
   "cell_type": "code",
   "execution_count": 6,
   "metadata": {},
   "outputs": [
    {
     "name": "stdout",
     "output_type": "stream",
     "text": [
      "Nombre:camisa, Precio: €20, Cantidad: 40\n",
      "el producto pantalón no existe, lo hemos agregado\n"
     ]
    }
   ],
   "source": [
    "TiendaMaleni.agregar_producto(\"pantalón\", 30, 30)"
   ]
  },
  {
   "cell_type": "markdown",
   "metadata": {},
   "source": [
    "#Validamos que pantalón se ha incluido en el diccionario"
   ]
  },
  {
   "cell_type": "code",
   "execution_count": 7,
   "metadata": {},
   "outputs": [
    {
     "data": {
      "text/plain": [
       "{'inventario': [{'nombre': 'camisa', 'precio': 20, 'cantidad': 40},\n",
       "  {'nombre': 'pantalón', 'precio': 30, 'cantidad': 30}],\n",
       " 'ventas_totales': 0.0}"
      ]
     },
     "execution_count": 7,
     "metadata": {},
     "output_type": "execute_result"
    }
   ],
   "source": [
    "TiendaMaleni.__dict__"
   ]
  },
  {
   "cell_type": "markdown",
   "metadata": {},
   "source": [
    "#Agregamos otro nuevo producto: zapatos, el cual en el #5 lo vamos a eliminar"
   ]
  },
  {
   "cell_type": "code",
   "execution_count": 8,
   "metadata": {},
   "outputs": [
    {
     "name": "stdout",
     "output_type": "stream",
     "text": [
      "Nombre:camisa, Precio: €20, Cantidad: 40\n",
      "Nombre:pantalón, Precio: €30, Cantidad: 30\n",
      "el producto zapatos no existe, lo hemos agregado\n"
     ]
    }
   ],
   "source": [
    "TiendaMaleni.agregar_producto(\"zapatos\", 50, 40)"
   ]
  },
  {
   "cell_type": "code",
   "execution_count": 9,
   "metadata": {},
   "outputs": [
    {
     "data": {
      "text/plain": [
       "{'inventario': [{'nombre': 'camisa', 'precio': 20, 'cantidad': 40},\n",
       "  {'nombre': 'pantalón', 'precio': 30, 'cantidad': 30},\n",
       "  {'nombre': 'zapatos', 'precio': 50, 'cantidad': 40}],\n",
       " 'ventas_totales': 0.0}"
      ]
     },
     "execution_count": 9,
     "metadata": {},
     "output_type": "execute_result"
    }
   ],
   "source": [
    "TiendaMaleni.__dict__"
   ]
  },
  {
   "cell_type": "markdown",
   "metadata": {},
   "source": [
    "#He agregado una cantidad : 10 unidades al producto \"camisa\" para validar que se actualiza en cantidades"
   ]
  },
  {
   "cell_type": "code",
   "execution_count": 10,
   "metadata": {},
   "outputs": [
    {
     "name": "stdout",
     "output_type": "stream",
     "text": [
      "Nombre:camisa, Precio: €20, Cantidad: 40\n",
      "el producto ya existe, se ha agregado la cantidad en inventario.\n"
     ]
    }
   ],
   "source": [
    "TiendaMaleni.agregar_producto(\"camisa\", 10, 10)"
   ]
  },
  {
   "cell_type": "markdown",
   "metadata": {},
   "source": [
    "#2.Aquí podemos ver el inventario con sus detalles con la función ver_inventario"
   ]
  },
  {
   "cell_type": "code",
   "execution_count": 11,
   "metadata": {},
   "outputs": [
    {
     "name": "stdout",
     "output_type": "stream",
     "text": [
      "Inventario de la tienda:\n",
      "Nombre: camisa, Precio: €20, Cantidad: 50\n",
      "Nombre: pantalón, Precio: €30, Cantidad: 30\n",
      "Nombre: zapatos, Precio: €50, Cantidad: 40\n"
     ]
    }
   ],
   "source": [
    "TiendaMaleni.ver_inventario ()\n"
   ]
  },
  {
   "cell_type": "markdown",
   "metadata": {},
   "source": [
    "#3. Aqui vamos a buscar un producto en el inventario por nombre y mostrar todos sus detalles."
   ]
  },
  {
   "cell_type": "code",
   "execution_count": 12,
   "metadata": {},
   "outputs": [
    {
     "name": "stdout",
     "output_type": "stream",
     "text": [
      "Nombre: camisa, Precio: €20, Cantidad: 50\n"
     ]
    }
   ],
   "source": [
    "TiendaMaleni.buscar_producto (\"Camisa\")\n"
   ]
  },
  {
   "cell_type": "markdown",
   "metadata": {},
   "source": [
    "#4.Actualizar inventario --> Validamos que se actualiza el stock, agregando al producto \"camisa\" 10 unidades y pasa de tener 50 camisas a tener 60 camisas."
   ]
  },
  {
   "cell_type": "code",
   "execution_count": 13,
   "metadata": {},
   "outputs": [
    {
     "name": "stdout",
     "output_type": "stream",
     "text": [
      "El stock de camisa ha sido actualizado. Nueva cantidad: 60\n",
      "Inventario de la tienda:\n",
      "Nombre: camisa, Precio: €20, Cantidad: 60\n",
      "Nombre: pantalón, Precio: €30, Cantidad: 30\n",
      "Nombre: zapatos, Precio: €50, Cantidad: 40\n"
     ]
    }
   ],
   "source": [
    "TiendaMaleni.actualizar_stock(\"camisa\", 20, 10)\n",
    "\n",
    "TiendaMaleni.ver_inventario()   #Aqui volvemos a visualizar todo el inventario para verificar que se ha actualizado la cantidad.\n"
   ]
  },
  {
   "cell_type": "markdown",
   "metadata": {},
   "source": [
    "#5.Eliminamos un producto, en este caso hemos eliminado zapatos"
   ]
  },
  {
   "cell_type": "code",
   "execution_count": 14,
   "metadata": {},
   "outputs": [
    {
     "name": "stdout",
     "output_type": "stream",
     "text": [
      "El producto zapatos ha sido eliminado del inventario.\n"
     ]
    }
   ],
   "source": [
    "TiendaMaleni.eliminar_producto(\"zapatos\")\n"
   ]
  },
  {
   "cell_type": "code",
   "execution_count": 15,
   "metadata": {},
   "outputs": [
    {
     "name": "stdout",
     "output_type": "stream",
     "text": [
      "Inventario de la tienda:\n",
      "Nombre: camisa, Precio: €20, Cantidad: 60\n",
      "Nombre: pantalón, Precio: €30, Cantidad: 30\n"
     ]
    }
   ],
   "source": [
    "TiendaMaleni.ver_inventario()\n",
    "#Verificamos que se ha eliminado el producto zapatos"
   ]
  },
  {
   "cell_type": "markdown",
   "metadata": {},
   "source": [
    "#6. Calculamos el valor total del inventario con los dos productos del inventario: valor.camisa (precio * cantidad) + valor.pantalón (precio * cantidad) = €2.100"
   ]
  },
  {
   "cell_type": "code",
   "execution_count": 16,
   "metadata": {},
   "outputs": [
    {
     "name": "stdout",
     "output_type": "stream",
     "text": [
      "El valor total del inventario es: €2100.0\n"
     ]
    }
   ],
   "source": [
    "TiendaMaleni.valor_inventario()\n"
   ]
  },
  {
   "cell_type": "code",
   "execution_count": null,
   "metadata": {},
   "outputs": [],
   "source": []
  }
 ],
 "metadata": {
  "kernelspec": {
   "display_name": "base",
   "language": "python",
   "name": "python3"
  },
  "language_info": {
   "codemirror_mode": {
    "name": "ipython",
    "version": 3
   },
   "file_extension": ".py",
   "mimetype": "text/x-python",
   "name": "python",
   "nbconvert_exporter": "python",
   "pygments_lexer": "ipython3",
   "version": "3.12.7"
  }
 },
 "nbformat": 4,
 "nbformat_minor": 2
}
