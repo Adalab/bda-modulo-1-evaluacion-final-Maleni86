{
 "cells": [
  {
   "cell_type": "markdown",
   "metadata": {},
   "source": [
    "# Ejercicio Evaluación_paso a paso"
   ]
  },
  {
   "cell_type": "markdown",
   "metadata": {},
   "source": []
  },
  {
   "cell_type": "code",
   "execution_count": 282,
   "metadata": {},
   "outputs": [],
   "source": [
    "class TiendaOnline:\n",
    "    def __init__(self):\n",
    "        self.inventario = [] #lista vacía del inventario\n",
    "        self.ventas_totales = 0.0 #Inicializado con valor 0.0 \n",
    "\n",
    "    \n",
    "    def añadir (self, nombre, precio, cantidad):\n",
    "        self.inventario.append ({'nombre': nombre, 'precio': precio, 'cantidad': cantidad})\n",
    "\n",
    "    def agregar_producto(self, nombre, precio, cantidad):\n",
    "        \n",
    "        for producto in self.inventario:\n",
    "            print (producto [\"nombre\"])\n",
    "            if producto [\"nombre\"] == nombre:\n",
    "                producto [\"cantidad\"] += cantidad #Si existe, actualizamos la cantidad\n",
    "                print (\"el producto ya existe, se ha agregado la cantidad en inventario.\")\n",
    "                return     \n",
    "            #Si no existe, tenemos que agregarlo como nuevo producto\n",
    "        nuevo_producto = {\"nombre\": nombre , \"precio\": precio, \"cantidad\": cantidad }\n",
    "        self.inventario.append ({'nombre': nombre, 'precio': precio, 'cantidad': cantidad})\n",
    "        print (f\"el producto {nombre} no existe, lo hemos agregado\")\n",
    "\n",
    "    def ver_inventario (self) :\n",
    "            print(\"Inventario de la tienda:\")\n",
    "            for producto in self.inventario :\n",
    "                print(f\"Nombre: {producto['nombre']}, Precio: €{producto['precio']}, Cantidad: {producto['cantidad']}\")\n",
    "\n",
    "    def buscar_producto(self, nombre, precio, cantidad):\n",
    "    \n",
    "        for producto in self.inventario:\n",
    "            if producto [\"nombre\"] == nombre:    \n",
    "                print(f\"Nombre: {producto['nombre']}, Precio: €{producto['precio']}, Cantidad: {producto['cantidad']}\")\n",
    "            else:\n",
    "                print (\"el producto existe\")\n",
    "\n",
    "    def actualizar_stock(self, nombre, precio, cantidad):\n",
    "        for producto in self.inventario:\n",
    "            if producto[\"nombre\"] == nombre:\n",
    "                producto[\"cantidad\"] += cantidad  #Aqui estoy actualizando la cantidad\n",
    "                print(f\"El stock de {nombre} ha sido actualizado. Nueva cantidad: {producto[\"cantidad\"]}\")\n",
    "                return\n",
    "        print(f\"No se encuentra el producto '{nombre}' en el inventario.\")\n",
    "\n",
    "    "
   ]
  },
  {
   "cell_type": "code",
   "execution_count": 293,
   "metadata": {},
   "outputs": [],
   "source": [
    "TiendaMaleni = TiendaOnline ()"
   ]
  },
  {
   "cell_type": "code",
   "execution_count": 294,
   "metadata": {},
   "outputs": [
    {
     "data": {
      "text/plain": [
       "{'inventario': [], 'ventas_totales': 0.0}"
      ]
     },
     "execution_count": 294,
     "metadata": {},
     "output_type": "execute_result"
    }
   ],
   "source": [
    "TiendaMaleni.__dict__"
   ]
  },
  {
   "cell_type": "code",
   "execution_count": 295,
   "metadata": {},
   "outputs": [],
   "source": [
    "TiendaMaleni.añadir(\"camisa\", 20, 40)\n"
   ]
  },
  {
   "cell_type": "code",
   "execution_count": 296,
   "metadata": {},
   "outputs": [
    {
     "data": {
      "text/plain": [
       "{'inventario': [{'nombre': 'camisa', 'precio': 20, 'cantidad': 40}],\n",
       " 'ventas_totales': 0.0}"
      ]
     },
     "execution_count": 296,
     "metadata": {},
     "output_type": "execute_result"
    }
   ],
   "source": [
    "TiendaMaleni.__dict__"
   ]
  },
  {
   "cell_type": "code",
   "execution_count": 297,
   "metadata": {},
   "outputs": [
    {
     "name": "stdout",
     "output_type": "stream",
     "text": [
      "camisa\n",
      "el producto pantalón no existe, lo hemos agregado\n"
     ]
    }
   ],
   "source": [
    "TiendaMaleni.agregar_producto(\"pantalón\", 30, 30)"
   ]
  },
  {
   "cell_type": "code",
   "execution_count": 298,
   "metadata": {},
   "outputs": [
    {
     "data": {
      "text/plain": [
       "{'inventario': [{'nombre': 'camisa', 'precio': 20, 'cantidad': 40},\n",
       "  {'nombre': 'pantalón', 'precio': 30, 'cantidad': 30}],\n",
       " 'ventas_totales': 0.0}"
      ]
     },
     "execution_count": 298,
     "metadata": {},
     "output_type": "execute_result"
    }
   ],
   "source": [
    "TiendaMaleni.__dict__"
   ]
  },
  {
   "cell_type": "code",
   "execution_count": 299,
   "metadata": {},
   "outputs": [
    {
     "name": "stdout",
     "output_type": "stream",
     "text": [
      "camisa\n",
      "pantalón\n",
      "el producto zapatos no existe, lo hemos agregado\n"
     ]
    }
   ],
   "source": [
    "TiendaMaleni.agregar_producto(\"zapatos\", 50, 40)"
   ]
  },
  {
   "cell_type": "code",
   "execution_count": 300,
   "metadata": {},
   "outputs": [
    {
     "data": {
      "text/plain": [
       "{'inventario': [{'nombre': 'camisa', 'precio': 20, 'cantidad': 40},\n",
       "  {'nombre': 'pantalón', 'precio': 30, 'cantidad': 30},\n",
       "  {'nombre': 'zapatos', 'precio': 50, 'cantidad': 40}],\n",
       " 'ventas_totales': 0.0}"
      ]
     },
     "execution_count": 300,
     "metadata": {},
     "output_type": "execute_result"
    }
   ],
   "source": [
    "TiendaMaleni.__dict__"
   ]
  },
  {
   "cell_type": "markdown",
   "metadata": {},
   "source": [
    "#He agregado una cantidad al prodcuto \"camisa\" para validar que se actualiza"
   ]
  },
  {
   "cell_type": "code",
   "execution_count": 301,
   "metadata": {},
   "outputs": [
    {
     "name": "stdout",
     "output_type": "stream",
     "text": [
      "camisa\n",
      "el producto ya existe, se ha agregado la cantidad en inventario.\n"
     ]
    }
   ],
   "source": [
    "TiendaMaleni.agregar_producto(\"camisa\", 10, 10)"
   ]
  },
  {
   "cell_type": "code",
   "execution_count": 302,
   "metadata": {},
   "outputs": [
    {
     "name": "stdout",
     "output_type": "stream",
     "text": [
      "Inventario de la tienda:\n",
      "Nombre: camisa, Precio: €20, Cantidad: 50\n",
      "Nombre: pantalón, Precio: €30, Cantidad: 30\n",
      "Nombre: zapatos, Precio: €50, Cantidad: 40\n"
     ]
    }
   ],
   "source": [
    "TiendaMaleni.ver_inventario ()\n"
   ]
  },
  {
   "cell_type": "code",
   "execution_count": 306,
   "metadata": {},
   "outputs": [
    {
     "name": "stdout",
     "output_type": "stream",
     "text": [
      "Nombre: camisa, Precio: €20, Cantidad: 50\n",
      "el producto existe\n",
      "el producto existe\n"
     ]
    }
   ],
   "source": [
    "TiendaMaleni.buscar_producto (\"camisa\",20, 50)\n"
   ]
  },
  {
   "cell_type": "markdown",
   "metadata": {},
   "source": [
    "# Validamos que se actualiza el stock, pasa de tener 50 casmisas a tener 40 camisas"
   ]
  },
  {
   "cell_type": "code",
   "execution_count": 313,
   "metadata": {},
   "outputs": [
    {
     "name": "stdout",
     "output_type": "stream",
     "text": [
      "El stock de camisa ha sido actualizado. Nueva cantidad: 40\n"
     ]
    },
    {
     "data": {
      "text/plain": [
       "{'inventario': [{'nombre': 'camisa', 'precio': 20, 'cantidad': 40},\n",
       "  {'nombre': 'pantalón', 'precio': 30, 'cantidad': 30},\n",
       "  {'nombre': 'zapatos', 'precio': 50, 'cantidad': 40}],\n",
       " 'ventas_totales': 0.0}"
      ]
     },
     "execution_count": 313,
     "metadata": {},
     "output_type": "execute_result"
    }
   ],
   "source": [
    "TiendaMaleni.actualizar_stock(\"camisa\",20, 40)\n",
    "TiendaMaleni.__dict__\n"
   ]
  },
  {
   "cell_type": "code",
   "execution_count": null,
   "metadata": {},
   "outputs": [],
   "source": []
  },
  {
   "cell_type": "markdown",
   "metadata": {},
   "source": []
  },
  {
   "cell_type": "markdown",
   "metadata": {},
   "source": []
  },
  {
   "cell_type": "markdown",
   "metadata": {},
   "source": []
  },
  {
   "cell_type": "code",
   "execution_count": 72,
   "metadata": {},
   "outputs": [],
   "source": [
    "inventario = [{'nombre': 'camisa', 'precio': 40, 'cantidad': 20}, {'nombre': 'pantalón', 'precio': 10, 'cantidad': 30}]\n",
    "\n",
    "def añadir (nombre, precio, cantidad):\n",
    "    for producto in inventario:\n",
    "        print (producto [\"nombre\"])\n",
    "        if producto [\"nombre\"] == nombre:\n",
    "            print (\"el producto ya existe\")\n",
    "        else:\n",
    "            print (\"el producto no existe\")\n",
    "    \n",
    "\n",
    "\n"
   ]
  },
  {
   "cell_type": "code",
   "execution_count": 73,
   "metadata": {},
   "outputs": [
    {
     "name": "stdout",
     "output_type": "stream",
     "text": [
      "camisa\n",
      "el producto no existe\n",
      "pantalón\n",
      "el producto no existe\n"
     ]
    }
   ],
   "source": [
    "añadir (\"blusa\" , 10, 30)\n"
   ]
  },
  {
   "cell_type": "code",
   "execution_count": 69,
   "metadata": {},
   "outputs": [
    {
     "name": "stdout",
     "output_type": "stream",
     "text": [
      "[{'nombre': 'camisa', 'precio': 40, 'cantidad': 20}, {'nombre': 'pantalón', 'precio': 10, 'cantidad': 30}]\n"
     ]
    }
   ],
   "source": [
    "print (inventario)"
   ]
  },
  {
   "cell_type": "code",
   "execution_count": null,
   "metadata": {},
   "outputs": [],
   "source": [
    "inventario.append ({'nombre': nombre, 'precio': precio, 'cantidad': cantidad})"
   ]
  }
 ],
 "metadata": {
  "kernelspec": {
   "display_name": "base",
   "language": "python",
   "name": "python3"
  },
  "language_info": {
   "codemirror_mode": {
    "name": "ipython",
    "version": 3
   },
   "file_extension": ".py",
   "mimetype": "text/x-python",
   "name": "python",
   "nbconvert_exporter": "python",
   "pygments_lexer": "ipython3",
   "version": "3.12.7"
  }
 },
 "nbformat": 4,
 "nbformat_minor": 2
}
