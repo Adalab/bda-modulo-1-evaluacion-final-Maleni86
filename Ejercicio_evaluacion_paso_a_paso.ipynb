{
 "cells": [
  {
   "cell_type": "markdown",
   "metadata": {},
   "source": [
    "# Ejercicio Evaluación_paso a paso"
   ]
  },
  {
   "cell_type": "markdown",
   "metadata": {},
   "source": []
  },
  {
   "cell_type": "code",
   "execution_count": 138,
   "metadata": {},
   "outputs": [],
   "source": [
    "class TiendaOnline:\n",
    "    def __init__(self):\n",
    "        self.inventario = [] #lista vacía del inventario\n",
    "        self.ventas_totales = 0.0 #Inicializado con valor 0.0 \n",
    "\n",
    "    \n",
    "    def añadir (self, nombre, precio, cantidad):\n",
    "        self.inventario.append ({'nombre': nombre, 'precio': precio, 'cantidad': cantidad})\n",
    "\n",
    "    def agregar_producto(self, nombre, precio, cantidad):\n",
    "        \n",
    "        for producto in self.inventario:\n",
    "            print (producto [\"nombre\"])\n",
    "            if producto [\"nombre\"] == nombre:\n",
    "                producto [\"cantidad\"] += cantidad #Si existe, actualizamos la cantidad\n",
    "                print (\"el producto ya existe, se ha agregado la cantidad en inventario.\")\n",
    "                return\n",
    "            \n",
    "            #Si no existe, tenemos que agregarlo como nuevo producto\n",
    "        nuevo_producto = {\"nombre\": nombre , \"precio\": precio, \"cantidad\": cantidad }\n",
    "        self.inventario.append ({'nombre': nombre, 'precio': precio, 'cantidad': cantidad})\n",
    "        print (f\"el producto {nombre} no existe, lo hemos agregado\")\n",
    "\n",
    "    def ver_inventario (self) :\n",
    "            print(\"Inventario de la tienda:\")\n",
    "            for producto in self.inventario :\n",
    "                print(f\"Nombre: {producto['nombre']}, Precio: €{producto['precio']}, Cantidad: {producto['cantidad']}\")\n",
    "\n",
    "\n",
    "\n",
    "\n",
    "    "
   ]
  },
  {
   "cell_type": "code",
   "execution_count": 139,
   "metadata": {},
   "outputs": [],
   "source": [
    "TiendaMaleni = TiendaOnline ()"
   ]
  },
  {
   "cell_type": "code",
   "execution_count": 140,
   "metadata": {},
   "outputs": [
    {
     "data": {
      "text/plain": [
       "{'inventario': [], 'ventas_totales': 0.0}"
      ]
     },
     "execution_count": 140,
     "metadata": {},
     "output_type": "execute_result"
    }
   ],
   "source": [
    "TiendaMaleni.__dict__"
   ]
  },
  {
   "cell_type": "code",
   "execution_count": 141,
   "metadata": {},
   "outputs": [],
   "source": [
    "TiendaMaleni.añadir(\"blusa\", 10, 25)\n"
   ]
  },
  {
   "cell_type": "code",
   "execution_count": 142,
   "metadata": {},
   "outputs": [
    {
     "data": {
      "text/plain": [
       "{'inventario': [{'nombre': 'blusa', 'precio': 10, 'cantidad': 25}],\n",
       " 'ventas_totales': 0.0}"
      ]
     },
     "execution_count": 142,
     "metadata": {},
     "output_type": "execute_result"
    }
   ],
   "source": [
    "TiendaMaleni.__dict__"
   ]
  },
  {
   "cell_type": "code",
   "execution_count": 143,
   "metadata": {},
   "outputs": [
    {
     "name": "stdout",
     "output_type": "stream",
     "text": [
      "blusa\n",
      "el producto pantalón no existe, lo hemos agregado\n"
     ]
    }
   ],
   "source": [
    "TiendaMaleni.agregar_producto(\"pantalón\", 10, 30)"
   ]
  },
  {
   "cell_type": "code",
   "execution_count": 144,
   "metadata": {},
   "outputs": [
    {
     "data": {
      "text/plain": [
       "{'inventario': [{'nombre': 'blusa', 'precio': 10, 'cantidad': 25},\n",
       "  {'nombre': 'pantalón', 'precio': 10, 'cantidad': 30}],\n",
       " 'ventas_totales': 0.0}"
      ]
     },
     "execution_count": 144,
     "metadata": {},
     "output_type": "execute_result"
    }
   ],
   "source": [
    "TiendaMaleni.__dict__"
   ]
  },
  {
   "cell_type": "code",
   "execution_count": 145,
   "metadata": {},
   "outputs": [
    {
     "name": "stdout",
     "output_type": "stream",
     "text": [
      "blusa\n",
      "pantalón\n",
      "el producto ya existe, se ha agregado la cantidad en inventario.\n"
     ]
    }
   ],
   "source": [
    "TiendaMaleni.agregar_producto(\"pantalón\", 10, 5)"
   ]
  },
  {
   "cell_type": "code",
   "execution_count": 147,
   "metadata": {},
   "outputs": [
    {
     "name": "stdout",
     "output_type": "stream",
     "text": [
      "Inventario de la tienda:\n",
      "Nombre: blusa, Precio: €10, Cantidad: 25\n",
      "Nombre: pantalón, Precio: €10, Cantidad: 35\n"
     ]
    }
   ],
   "source": [
    "TiendaMaleni.ver_inventario ()\n"
   ]
  },
  {
   "cell_type": "code",
   "execution_count": null,
   "metadata": {},
   "outputs": [],
   "source": []
  },
  {
   "cell_type": "markdown",
   "metadata": {},
   "source": []
  },
  {
   "cell_type": "markdown",
   "metadata": {},
   "source": []
  },
  {
   "cell_type": "code",
   "execution_count": 72,
   "metadata": {},
   "outputs": [],
   "source": [
    "inventario = [{'nombre': 'camisa', 'precio': 40, 'cantidad': 20}, {'nombre': 'pantalón', 'precio': 10, 'cantidad': 30}]\n",
    "\n",
    "def añadir (nombre, precio, cantidad):\n",
    "    for producto in inventario:\n",
    "        print (producto [\"nombre\"])\n",
    "        if producto [\"nombre\"] == nombre:\n",
    "            print (\"el producto ya existe\")\n",
    "        else:\n",
    "            print (\"el producto no existe\")\n",
    "    \n",
    "\n",
    "\n"
   ]
  },
  {
   "cell_type": "code",
   "execution_count": 73,
   "metadata": {},
   "outputs": [
    {
     "name": "stdout",
     "output_type": "stream",
     "text": [
      "camisa\n",
      "el producto no existe\n",
      "pantalón\n",
      "el producto no existe\n"
     ]
    }
   ],
   "source": [
    "añadir (\"blusa\" , 10, 30)\n"
   ]
  },
  {
   "cell_type": "code",
   "execution_count": 69,
   "metadata": {},
   "outputs": [
    {
     "name": "stdout",
     "output_type": "stream",
     "text": [
      "[{'nombre': 'camisa', 'precio': 40, 'cantidad': 20}, {'nombre': 'pantalón', 'precio': 10, 'cantidad': 30}]\n"
     ]
    }
   ],
   "source": [
    "print (inventario)"
   ]
  },
  {
   "cell_type": "code",
   "execution_count": null,
   "metadata": {},
   "outputs": [],
   "source": [
    "inventario.append ({'nombre': nombre, 'precio': precio, 'cantidad': cantidad})"
   ]
  },
  {
   "cell_type": "markdown",
   "metadata": {},
   "source": [
    "2. `ver_inventario(self)`: Muestra el inventario de productos con sus detalles.\n",
    "\n",
    "   - Utiliza un bucle `for` para recorrer el inventario.\n",
    "   - Imprime los detalles (nombre, precio, cantidad) de cada producto.\n",
    "   - Debería verse:\n",
    "         \n",
    "        ```python\n",
    "            Nombre: Camisa, Precio: $20, Cantidad: 50\n",
    "            Nombre: Pantalón, Precio: $30, Cantidad: 30\n",
    "            Nombre: Zapatos, Precio: $50, Cantidad: 40\n",
    "            Nombre: Camisa, Precio: $20, Cantidad: 50"
   ]
  }
 ],
 "metadata": {
  "kernelspec": {
   "display_name": "base",
   "language": "python",
   "name": "python3"
  },
  "language_info": {
   "codemirror_mode": {
    "name": "ipython",
    "version": 3
   },
   "file_extension": ".py",
   "mimetype": "text/x-python",
   "name": "python",
   "nbconvert_exporter": "python",
   "pygments_lexer": "ipython3",
   "version": "3.12.7"
  }
 },
 "nbformat": 4,
 "nbformat_minor": 2
}
